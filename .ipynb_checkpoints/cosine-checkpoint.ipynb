{
 "cells": [
  {
   "cell_type": "code",
   "execution_count": 4,
   "id": "a4850710-91b7-49b6-af90-54a83e4e962d",
   "metadata": {},
   "outputs": [
    {
     "name": "stdout",
     "output_type": "stream",
     "text": [
      "Test Invoice: invoice_77098.pdf\n",
      "Most Similar Invoice: invoice_77073.pdf\n",
      "Similarity Score: 0.7791324628540709\n",
      "\n",
      "Test Invoice: invoice_102857.pdf\n",
      "Most Similar Invoice: invoice_102856.pdf\n",
      "Similarity Score: 0.7283994123857916\n",
      "\n"
     ]
    }
   ],
   "source": [
    "import os\n",
    "import PyPDF2\n",
    "import re\n",
    "from sklearn.feature_extraction.text import TfidfVectorizer\n",
    "from sklearn.metrics.pairwise import cosine_similarity\n",
    "\n",
    "train_folder = \"./train\"\n",
    "train_invoices = [\"2024.03.15_0954.pdf\", \"2024.03.15_1145.pdf\", \"Faller_8.pdf\", \"invoice_77073.pdf\", \"invoice_102856.pdf\"]\n",
    "database = {}\n",
    "\n",
    "test_folder = \"./test\"\n",
    "test_invoices = [\"invoice_77098.pdf\", \"invoice_102857.pdf\"]\n",
    "\n",
    "\n",
    "def extract_text_from_pdf(pdf_path):\n",
    "    text = \"\"\n",
    "    with open(pdf_path, \"rb\") as file:\n",
    "        reader = PyPDF2.PdfReader(file)\n",
    "        for page_num in range(len(reader.pages)):\n",
    "            page = reader.pages[page_num]\n",
    "            text += page.extract_text()\n",
    "    return text\n",
    "\n",
    "\n",
    "def extract_features(text):\n",
    "    features = {}\n",
    "    features['invoice_number'] = re.findall(r'Invoice Number: (\\d+)', text)\n",
    "    features['date'] = re.findall(r'Date: (\\d{2}/\\d{2}/\\d{4})', text)\n",
    "    features['amount'] = re.findall(r'Amount: (\\d+\\.\\d{2})', text)\n",
    "    return features\n",
    "\n",
    "\n",
    "def calculate_similarity(text1, text2):\n",
    "    vectorizer = TfidfVectorizer().fit_transform([text1, text2])\n",
    "    vectors = vectorizer.toarray()\n",
    "    cosine_sim = cosine_similarity(vectors)\n",
    "    return cosine_sim[0][1]\n",
    "\n",
    "\n",
    "\n",
    "\n",
    "\n",
    "for invoice in train_invoices:\n",
    "    pdf_path = os.path.join(train_folder, invoice)\n",
    "    text = extract_text_from_pdf(pdf_path)\n",
    "    features = extract_features(text)\n",
    "    database[invoice] = {'text': text, 'features': features}\n",
    "\n",
    "\n",
    "for test_invoice in test_invoices:\n",
    "    pdf_path = os.path.join(test_folder, test_invoice)\n",
    "    test_text = extract_text_from_pdf(pdf_path)\n",
    "    test_features = extract_features(test_text)\n",
    "    \n",
    "    best_match = None\n",
    "    highest_similarity = 0\n",
    "    \n",
    "    for train_invoice, data in database.items():\n",
    "        similarity = calculate_similarity(test_text, data['text'])\n",
    "        if similarity > highest_similarity:\n",
    "            highest_similarity = similarity\n",
    "            best_match = train_invoice\n",
    "    \n",
    "    print(f\"Test Invoice: {test_invoice}\")\n",
    "    print(f\"Most Similar Invoice: {best_match}\")\n",
    "    print(f\"Similarity Score: {highest_similarity}\\n\")\n",
    "\n",
    "\n"
   ]
  },
  {
   "cell_type": "code",
   "execution_count": null,
   "id": "90684a11-3142-4284-bb03-b525af703f0d",
   "metadata": {},
   "outputs": [],
   "source": []
  }
 ],
 "metadata": {
  "kernelspec": {
   "display_name": "Python (invoice_similarity)",
   "language": "python",
   "name": "invoice_similarity"
  },
  "language_info": {
   "codemirror_mode": {
    "name": "ipython",
    "version": 3
   },
   "file_extension": ".py",
   "mimetype": "text/x-python",
   "name": "python",
   "nbconvert_exporter": "python",
   "pygments_lexer": "ipython3",
   "version": "3.12.4"
  }
 },
 "nbformat": 4,
 "nbformat_minor": 5
}
