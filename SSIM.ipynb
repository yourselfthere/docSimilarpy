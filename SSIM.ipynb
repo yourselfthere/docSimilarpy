{
 "cells": [
  {
   "cell_type": "code",
   "execution_count": 1,
   "id": "0c978ca4-cc8d-411f-b19f-b77e663ae6e9",
   "metadata": {},
   "outputs": [
    {
     "name": "stdout",
     "output_type": "stream",
     "text": [
      "Test Image: invoice_77098.jpg\n",
      "Most Similar Image: invoice_77073.jpg\n",
      "Similarity Score: 0.9989650732277382\n",
      "\n",
      "Test Image: invoice_102857.jpg\n",
      "Most Similar Image: invoice_102856.jpg\n",
      "Similarity Score: 0.911856888921703\n",
      "\n"
     ]
    }
   ],
   "source": [
    "import os\n",
    "import numpy as np\n",
    "from PIL import Image\n",
    "from skimage.metrics import structural_similarity as ssim\n",
    "\n",
    "def calculate_ssim(img_path1, img_path2):\n",
    "    try:\n",
    "        img1 = Image.open(img_path1).convert('L')  # Convert to grayscale\n",
    "        img2 = Image.open(img_path2).convert('L')  # Convert to grayscale\n",
    "        img1 = img1.resize((224, 224))\n",
    "        img2 = img2.resize((224, 224))\n",
    "        img1 = np.array(img1)\n",
    "        img2 = np.array(img2)\n",
    "        return ssim(img1, img2)\n",
    "    except Exception as e:\n",
    "        print(f\"Error calculating SSIM between {img_path1} and {img_path2}: {e}\")\n",
    "        return 0.0\n",
    "\n",
    "# Paths to training and test folders\n",
    "train_folder = \"./train\"\n",
    "test_folder = \"./test\"\n",
    "\n",
    "# List of training and test images\n",
    "train_images = [\"2024.03.15_0954.jpg\", \"2024.03.15_1145.jpg\", \"Faller_8.jpg\", \"invoice_77073.jpg\", \"invoice_102856.jpg\"]\n",
    "test_images = [\"invoice_77098.jpg\", \"invoice_102857.jpg\"]\n",
    "\n",
    "# Dictionary to store training images\n",
    "database = {}\n",
    "\n",
    "# Store training images\n",
    "for img_name in train_images:\n",
    "    img_path = os.path.join(train_folder, img_name)\n",
    "    database[img_name] = img_path\n",
    "\n",
    "# Compare test images to training images\n",
    "for test_img in test_images:\n",
    "    test_img_path = os.path.join(test_folder, test_img)\n",
    "    \n",
    "    best_match = None\n",
    "    highest_similarity = 0\n",
    "    \n",
    "    for train_img, train_img_path in database.items():\n",
    "        similarity = calculate_ssim(test_img_path, train_img_path)\n",
    "        if similarity > highest_similarity:\n",
    "            highest_similarity = similarity\n",
    "            best_match = train_img\n",
    "    \n",
    "    print(f\"Test Image: {test_img}\")\n",
    "    print(f\"Most Similar Image: {best_match}\")\n",
    "    print(f\"Similarity Score: {highest_similarity}\\n\")\n"
   ]
  },
  {
   "cell_type": "code",
   "execution_count": null,
   "id": "d31ae9b0-1589-429b-a0bb-72a26bfa3a78",
   "metadata": {},
   "outputs": [],
   "source": []
  }
 ],
 "metadata": {
  "kernelspec": {
   "display_name": "Python (invoice_similarity)",
   "language": "python",
   "name": "invoice_similarity"
  },
  "language_info": {
   "codemirror_mode": {
    "name": "ipython",
    "version": 3
   },
   "file_extension": ".py",
   "mimetype": "text/x-python",
   "name": "python",
   "nbconvert_exporter": "python",
   "pygments_lexer": "ipython3",
   "version": "3.12.4"
  }
 },
 "nbformat": 4,
 "nbformat_minor": 5
}
